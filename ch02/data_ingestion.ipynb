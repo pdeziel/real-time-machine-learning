{
 "cells": [
  {
   "cell_type": "markdown",
   "metadata": {},
   "source": [
    "### Querying current flight positions from OpenSky"
   ]
  },
  {
   "cell_type": "code",
   "execution_count": null,
   "metadata": {},
   "outputs": [],
   "source": [
    "from urllib import request\n",
    "\n",
    "with request.urlopen(\"https://opensky-network.org/api/states/all\") as response:\n",
    "    print(response.read().decode(\"utf-8\"))"
   ]
  },
  {
   "cell_type": "markdown",
   "metadata": {},
   "source": [
    "### Filtering flight positions from OpenSky"
   ]
  },
  {
   "cell_type": "code",
   "execution_count": null,
   "metadata": {},
   "outputs": [],
   "source": [
    "import json\n",
    "from urllib import request\n",
    "\n",
    "with request.urlopen(\"https://opensky-network.org/api/states/all?lamin=45.8389&lomin=5.9962&lamax=47.8229&lomax=10.5226\") as response:\n",
    "    print(json.loads(response.read().decode(\"utf-8\")))"
   ]
  },
  {
   "cell_type": "markdown",
   "metadata": {},
   "source": [
    "### Creating events from flight data"
   ]
  },
  {
   "cell_type": "code",
   "execution_count": null,
   "metadata": {},
   "outputs": [],
   "source": [
    "def response_to_events(api_response):\n",
    "    flight_events = []\n",
    "    for update in api_response[\"states\"]:\n",
    "        flight_events.append(\n",
    "            {\n",
    "                \"icao24\": update[0],\n",
    "                \"origin_country\": update[2],\n",
    "                \"time_position\": update[3],\n",
    "                \"longitude\": update[5],\n",
    "                \"latitude\": update[6],\n",
    "                \"velocity\": update[9],\n",
    "                \"true_track\": update[10],\n",
    "            }\n",
    "        )\n",
    "    return sorted(flight_events, key=lambda x: x[\"time_position\"])"
   ]
  },
  {
   "cell_type": "markdown",
   "metadata": {},
   "source": [
    "### A flight update event generator"
   ]
  },
  {
   "cell_type": "code",
   "execution_count": null,
   "metadata": {},
   "outputs": [],
   "source": [
    "import time\n",
    "from urllib import request\n",
    "\n",
    "def get_events(\n",
    "    lat_min=45.8389,\n",
    "    long_min=5.9962,\n",
    "    lat_max=47.8229,\n",
    "    long_max=10.5226,\n",
    "    interval_sec=10,\n",
    "):\n",
    "    url = f\"https://opensky-network.org/api/states/all?lamin={lat_min}&lomin={long_min}&lamax={lat_max}&lomax={long_max}\"\n",
    "    for _ in range(3):\n",
    "        with request.urlopen(url) as response:\n",
    "            yield from response_to_events(json.loads(response.read().decode(\"utf-8\")))\n",
    "        time.sleep(interval_sec)"
   ]
  },
  {
   "cell_type": "markdown",
   "metadata": {},
   "source": [
    "### Calling the event generator"
   ]
  },
  {
   "cell_type": "code",
   "execution_count": null,
   "metadata": {},
   "outputs": [],
   "source": [
    "for event in get_events():\n",
    "    print(event)"
   ]
  }
 ],
 "metadata": {
  "kernelspec": {
   "display_name": "venv",
   "language": "python",
   "name": "python3"
  },
  "language_info": {
   "codemirror_mode": {
    "name": "ipython",
    "version": 3
   },
   "file_extension": ".py",
   "mimetype": "text/x-python",
   "name": "python",
   "nbconvert_exporter": "python",
   "pygments_lexer": "ipython3",
   "version": "3.10.10"
  }
 },
 "nbformat": 4,
 "nbformat_minor": 2
}
